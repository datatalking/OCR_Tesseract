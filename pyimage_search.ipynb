{
 "cells": [
  {
   "cell_type": "code",
   "execution_count": null,
   "metadata": {
    "collapsed": true
   },
   "outputs": [],
   "source": [
    "$pip install opencv-python # NOTE: *not* opencv-contrib-python\n",
    "$pip install easyocr"
   ]
  },
  {
   "cell_type": "code",
   "execution_count": 1,
   "outputs": [
    {
     "ename": "SyntaxError",
     "evalue": "invalid syntax (<ipython-input-1-7fa66eccaf5c>, line 1)",
     "output_type": "error",
     "traceback": [
      "\u001B[0;36m  File \u001B[0;32m\"<ipython-input-1-7fa66eccaf5c>\"\u001B[0;36m, line \u001B[0;32m1\u001B[0m\n\u001B[0;31m    $ workon easyocr # replace `easyocr` with your custom environment name\u001B[0m\n\u001B[0m    ^\u001B[0m\n\u001B[0;31mSyntaxError\u001B[0m\u001B[0;31m:\u001B[0m invalid syntax\n"
     ]
    }
   ],
   "source": [
    "$ workon easyocr # replace `easyocr` with your custom environment name\n",
    "!pip freeze\n",
    "\n",
    "certifi==2020.6.20\n",
    "cycler==0.10.0\n",
    "decorator==4.4.2\n",
    "easyocr==1.1.7\n",
    "future==0.18.2\n",
    "imageio==2.9.0\n",
    "kiwisolver==1.2.0\n",
    "matplotlib==3.3.1\n",
    "networkx==2.4\n",
    "numpy==1.19.1\n",
    "opencv-python==4.4.0.42\n",
    "Pillow==7.2.0\n",
    "pyparsing==2.4.7\n",
    "python-bidi==0.4.2\n",
    "python-dateutil==2.8.1\n",
    "PyWavelets==1.1.1\n",
    "scikit-image==0.17.2\n",
    "scipy==1.5.2\n",
    "six==1.15.0\n",
    "tifffile==2020.8.13\n",
    "torch==1.6.0\n",
    "torchvision==0.7.0"
   ],
   "metadata": {
    "collapsed": false,
    "pycharm": {
     "name": "#%%\n"
    }
   }
  },
  {
   "cell_type": "code",
   "execution_count": null,
   "outputs": [],
   "source": [
    "from easyocr import Reader\n",
    "import argparse\n",
    "import cv2"
   ],
   "metadata": {
    "collapsed": false,
    "pycharm": {
     "name": "#%%\n"
    }
   }
  }
 ],
 "metadata": {
  "kernelspec": {
   "display_name": "Python 3",
   "language": "python",
   "name": "python3"
  },
  "language_info": {
   "codemirror_mode": {
    "name": "ipython",
    "version": 2
   },
   "file_extension": ".py",
   "mimetype": "text/x-python",
   "name": "python",
   "nbconvert_exporter": "python",
   "pygments_lexer": "ipython2",
   "version": "2.7.6"
  }
 },
 "nbformat": 4,
 "nbformat_minor": 0
}